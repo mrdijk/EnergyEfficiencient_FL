{
 "cells": [
  {
   "cell_type": "markdown",
   "metadata": {
    "tags": []
   },
   "source": [
    "# Setup Kubernetes environment for DYNAMOS in FABRIC \n",
    "\n",
    "This Jupyter notebook will create the Kubernetes environment in FABRIC after the slice and corresponding nodes have been created.\n",
    "\n",
    "FABRIC API docs: https://fabric-fablib.readthedocs.io/en/latest/index.html\n",
    "\n",
    "\n",
    "## Step 1: Configure the Environment (has to be done once in the Jupyter Hub environment) & Create Slice\n",
    "\n",
    "Before running this notebook, you will need to configure your environment using the [Configure Environment](../configure_and_validate.ipynb) notebook. Please stop here, open and run that notebook, then return to this notebook. Note: this has to be done only once in the Jupyter Hub environment (unless configuration is removed/deleted of course).\n",
    "\n",
    "If you are using the FABRIC JupyterHub many of the environment variables will be automatically configured for you.  You will still need to set your bastion username, upload your bastion private key, and set the path to where you put your bastion private key. Your bastion username and private key should already be in your possession.  \n",
    "\n",
    "After following all steps of the Configuring Environment notebook, you should be able to run this notebook without additional steps.\n",
    "\n",
    "Next, you will need to have setup the slice in FABRIC using the [Create Slice](../create_slice.ipynb) notebook.\n",
    "\n",
    "More information about accessing your experiments through the FABRIC bastion hosts can be found [here](https://learn.fabric-testbed.net/knowledge-base/logging-into-fabric-vms/).\n",
    " "
   ]
  },
  {
   "cell_type": "markdown",
   "metadata": {},
   "source": [
    "## Step 2: Setup the Environment for this Notebook\n",
    "\n",
    "### Step 2.1: Import FABRIC API and other libraries"
   ]
  },
  {
   "cell_type": "code",
   "execution_count": 2,
   "metadata": {
    "tags": []
   },
   "outputs": [
    {
     "ename": "ConfigException",
     "evalue": "Token file does not exist, please provide the token at location: /home/maurits/.tokens.json!",
     "output_type": "error",
     "traceback": [
      "\u001b[31m---------------------------------------------------------------------------\u001b[39m",
      "\u001b[31mConfigException\u001b[39m                           Traceback (most recent call last)",
      "\u001b[36mCell\u001b[39m\u001b[36m \u001b[39m\u001b[32mIn[2]\u001b[39m\u001b[32m, line 7\u001b[39m\n\u001b[32m      3\u001b[39m \u001b[38;5;28;01mimport\u001b[39;00m \u001b[34;01mre\u001b[39;00m\n\u001b[32m      5\u001b[39m \u001b[38;5;28;01mfrom\u001b[39;00m \u001b[34;01mfabrictestbed_extensions\u001b[39;00m\u001b[34;01m.\u001b[39;00m\u001b[34;01mfablib\u001b[39;00m\u001b[34;01m.\u001b[39;00m\u001b[34;01mfablib\u001b[39;00m \u001b[38;5;28;01mimport\u001b[39;00m FablibManager \u001b[38;5;28;01mas\u001b[39;00m fablib_manager\n\u001b[32m----> \u001b[39m\u001b[32m7\u001b[39m fablib = \u001b[43mfablib_manager\u001b[49m\u001b[43m(\u001b[49m\u001b[43m)\u001b[49m\n\u001b[32m      9\u001b[39m fablib.show_config();\n",
      "\u001b[36mFile \u001b[39m\u001b[32m~/.pyenv/versions/3.11.10/lib/python3.11/site-packages/fabrictestbed_extensions/fablib/fablib.py:676\u001b[39m, in \u001b[36mFablibManager.__init__\u001b[39m\u001b[34m(self, fabric_rc, credmgr_host, orchestrator_host, core_api_host, am_host, token_location, project_id, bastion_username, bastion_key_location, log_level, log_file, data_dir, output, execute_thread_pool_size, offline, auto_token_refresh, **kwargs)\u001b[39m\n\u001b[32m    605\u001b[39m \u001b[38;5;28;01mdef\u001b[39;00m \u001b[34m__init__\u001b[39m(\n\u001b[32m    606\u001b[39m     \u001b[38;5;28mself\u001b[39m,\n\u001b[32m    607\u001b[39m     fabric_rc: \u001b[38;5;28mstr\u001b[39m = \u001b[38;5;28;01mNone\u001b[39;00m,\n\u001b[32m   (...)\u001b[39m\u001b[32m    623\u001b[39m     **kwargs,\n\u001b[32m    624\u001b[39m ):\n\u001b[32m    625\u001b[39m \u001b[38;5;250m    \u001b[39m\u001b[33;03m\"\"\"\u001b[39;00m\n\u001b[32m    626\u001b[39m \u001b[33;03m    ``FablibManager`` is the main interface to FABRIC services.\u001b[39;00m\n\u001b[32m    627\u001b[39m \n\u001b[32m   (...)\u001b[39m\u001b[32m    674\u001b[39m \u001b[33;03m    :param auto_token_refresh: Auto refresh tokens\u001b[39;00m\n\u001b[32m    675\u001b[39m \u001b[33;03m    \"\"\"\u001b[39;00m\n\u001b[32m--> \u001b[39m\u001b[32m676\u001b[39m     \u001b[38;5;28;43msuper\u001b[39;49m\u001b[43m(\u001b[49m\u001b[43m)\u001b[49m\u001b[43m.\u001b[49m\u001b[34;43m__init__\u001b[39;49m\u001b[43m(\u001b[49m\n\u001b[32m    677\u001b[39m \u001b[43m        \u001b[49m\u001b[43mfabric_rc\u001b[49m\u001b[43m=\u001b[49m\u001b[43mfabric_rc\u001b[49m\u001b[43m,\u001b[49m\n\u001b[32m    678\u001b[39m \u001b[43m        \u001b[49m\u001b[43mcredmgr_host\u001b[49m\u001b[43m=\u001b[49m\u001b[43mcredmgr_host\u001b[49m\u001b[43m,\u001b[49m\n\u001b[32m    679\u001b[39m \u001b[43m        \u001b[49m\u001b[43morchestrator_host\u001b[49m\u001b[43m=\u001b[49m\u001b[43morchestrator_host\u001b[49m\u001b[43m,\u001b[49m\n\u001b[32m    680\u001b[39m \u001b[43m        \u001b[49m\u001b[43mcore_api_host\u001b[49m\u001b[43m=\u001b[49m\u001b[43mcore_api_host\u001b[49m\u001b[43m,\u001b[49m\n\u001b[32m    681\u001b[39m \u001b[43m        \u001b[49m\u001b[43mam_host\u001b[49m\u001b[43m=\u001b[49m\u001b[43mam_host\u001b[49m\u001b[43m,\u001b[49m\n\u001b[32m    682\u001b[39m \u001b[43m        \u001b[49m\u001b[43mtoken_location\u001b[49m\u001b[43m=\u001b[49m\u001b[43mtoken_location\u001b[49m\u001b[43m,\u001b[49m\n\u001b[32m    683\u001b[39m \u001b[43m        \u001b[49m\u001b[43mproject_id\u001b[49m\u001b[43m=\u001b[49m\u001b[43mproject_id\u001b[49m\u001b[43m,\u001b[49m\n\u001b[32m    684\u001b[39m \u001b[43m        \u001b[49m\u001b[43mbastion_username\u001b[49m\u001b[43m=\u001b[49m\u001b[43mbastion_username\u001b[49m\u001b[43m,\u001b[49m\n\u001b[32m    685\u001b[39m \u001b[43m        \u001b[49m\u001b[43mbastion_key_location\u001b[49m\u001b[43m=\u001b[49m\u001b[43mbastion_key_location\u001b[49m\u001b[43m,\u001b[49m\n\u001b[32m    686\u001b[39m \u001b[43m        \u001b[49m\u001b[43mlog_level\u001b[49m\u001b[43m=\u001b[49m\u001b[43mlog_level\u001b[49m\u001b[43m,\u001b[49m\n\u001b[32m    687\u001b[39m \u001b[43m        \u001b[49m\u001b[43mlog_file\u001b[49m\u001b[43m=\u001b[49m\u001b[43mlog_file\u001b[49m\u001b[43m,\u001b[49m\n\u001b[32m    688\u001b[39m \u001b[43m        \u001b[49m\u001b[43mdata_dir\u001b[49m\u001b[43m=\u001b[49m\u001b[43mdata_dir\u001b[49m\u001b[43m,\u001b[49m\n\u001b[32m    689\u001b[39m \u001b[43m        \u001b[49m\u001b[43moffline\u001b[49m\u001b[43m=\u001b[49m\u001b[43moffline\u001b[49m\u001b[43m,\u001b[49m\n\u001b[32m    690\u001b[39m \u001b[43m        \u001b[49m\u001b[43m*\u001b[49m\u001b[43m*\u001b[49m\u001b[43mkwargs\u001b[49m\u001b[43m,\u001b[49m\n\u001b[32m    691\u001b[39m \u001b[43m    \u001b[49m\u001b[43m)\u001b[49m\n\u001b[32m    693\u001b[39m     \u001b[38;5;28;01mif\u001b[39;00m output \u001b[38;5;129;01mis\u001b[39;00m \u001b[38;5;129;01mnot\u001b[39;00m \u001b[38;5;28;01mNone\u001b[39;00m:\n\u001b[32m    694\u001b[39m         \u001b[38;5;28mself\u001b[39m.output = output\n",
      "\u001b[36mFile \u001b[39m\u001b[32m~/.pyenv/versions/3.11.10/lib/python3.11/site-packages/fabrictestbed_extensions/fablib/config/config.py:236\u001b[39m, in \u001b[36mConfig.__init__\u001b[39m\u001b[34m(self, fabric_rc, credmgr_host, orchestrator_host, core_api_host, am_host, token_location, project_id, bastion_username, bastion_key_location, log_level, log_file, data_dir, offline, **kwargs)\u001b[39m\n\u001b[32m    234\u001b[39m token_location = \u001b[38;5;28mself\u001b[39m.get_token_location()\n\u001b[32m    235\u001b[39m \u001b[38;5;28;01mif\u001b[39;00m \u001b[38;5;129;01mnot\u001b[39;00m os.path.exists(token_location):\n\u001b[32m--> \u001b[39m\u001b[32m236\u001b[39m     \u001b[38;5;28;01mraise\u001b[39;00m ConfigException(\n\u001b[32m    237\u001b[39m         \u001b[33mf\u001b[39m\u001b[33m\"\u001b[39m\u001b[33mToken file does not exist, please provide the token at location: \u001b[39m\u001b[38;5;132;01m{\u001b[39;00mtoken_location\u001b[38;5;132;01m}\u001b[39;00m\u001b[33m!\u001b[39m\u001b[33m\"\u001b[39m\n\u001b[32m    238\u001b[39m     )\n",
      "\u001b[31mConfigException\u001b[39m: Token file does not exist, please provide the token at location: /home/maurits/.tokens.json!"
     ]
    }
   ],
   "source": [
    "import json\n",
    "import traceback\n",
    "import re\n",
    "\n",
    "from fabrictestbed_extensions.fablib.fablib import FablibManager as fablib_manager\n",
    "\n",
    "fablib = fablib_manager()\n",
    "\n",
    "fablib.show_config();\n"
   ]
  },
  {
   "cell_type": "markdown",
   "metadata": {},
   "source": [
    "### Step 2.2: Configure the parameters and variables\n",
    "Can be used to set the corresponding slice and other variables used for subsequent cells."
   ]
  },
  {
   "cell_type": "code",
   "execution_count": null,
   "metadata": {},
   "outputs": [],
   "source": [
    "slice_name = 'DYNAMOS_EnergyEfficiency'\n",
    "# Nodes:\n",
    "node1_name = 'k8s-control-plane'\n",
    "node2_name = 'dynamos-core'\n",
    "node3_name = 'vu'\n",
    "node4_name = 'uva'\n",
    "node5_name = 'surf'\n",
    "# Network:\n",
    "network_name = 'NET1'"
   ]
  },
  {
   "cell_type": "markdown",
   "metadata": {},
   "source": [
    "### Step 2.3: Set Network IPs for nodes\n",
    "This step sets the network and IPs of the nodes for later usage."
   ]
  },
  {
   "cell_type": "code",
   "execution_count": null,
   "metadata": {},
   "outputs": [],
   "source": [
    "# Get slice and slice components\n",
    "# Get slice by name: https://fabric-fablib.readthedocs.io/en/latest/fablib.html#fabrictestbed_extensions.fablib.fablib.FablibManager.get_slice\n",
    "slice = fablib.get_slice(name=slice_name)\n",
    "# Get the network\n",
    "network = slice.get_network(name=network_name)\n",
    "# Get nodes\n",
    "nodes = slice.get_nodes()\n",
    "\n",
    "# Define function to get the ips for each node\n",
    "def get_ip(node):\n",
    "    interface = node.get_interface(network_name=network_name)\n",
    "    return interface.get_ip_addr()\n",
    "# Define function to get interface of the node\n",
    "def get_interface(node):\n",
    "    interface = node.get_interface(network_name=network_name)\n",
    "    return interface.get_device_name()\n",
    "\n",
    "# Create a dictionary to store node names and their IPs and interfaces\n",
    "node_ips = {}\n",
    "node_interfaces = {}\n",
    "\n",
    "# Populate the dictionary with node names and their corresponding IPs\n",
    "for node in nodes:\n",
    "    node_name = node.get_name()\n",
    "    # Get IPs for each node from the network and set as variables for later usage\n",
    "    node_ips[node_name] = get_ip(node)\n",
    "    # Do the same for interface\n",
    "    # Get IPs for each node from the network and set as variables for later usage\n",
    "    node_interfaces[node_name] = get_interface(node)\n",
    "\n",
    "# Print the IPs and interfaces for each node\n",
    "for node_name, ip in node_ips.items():\n",
    "    print(f\"{node_name} IP: {ip}\")\n",
    "for node_name, interface in node_interfaces.items():\n",
    "    print(f\"{node_name} interface device for Kubernetes network plugin (should be the same for each node): {interface}\")"
   ]
  },
  {
   "cell_type": "markdown",
   "metadata": {},
   "source": [
    "### Step 2.4: Display required information\n",
    "\n",
    "#### Get SSH Commands\n",
    "This step prints the SSH commands that can be used with the guide below to SSH into the VMs."
   ]
  },
  {
   "cell_type": "code",
   "execution_count": null,
   "metadata": {},
   "outputs": [],
   "source": [
    "# Print the necessary information\n",
    "try:\n",
    "    # Get slice nodes\n",
    "    for node in slice.get_nodes():\n",
    "        print(f\"Node: {node.get_name()}\")\n",
    "        # Get the original SSH command\n",
    "        original_ssh_command = node.get_ssh_command()\n",
    "        # Print SSH commands to get into the nodes\n",
    "        print(f\"  SSH Command from FABRIC: {original_ssh_command}\")\n",
    "        # Replace the file paths in the SSH command\n",
    "        updated_ssh_command = original_ssh_command.replace(\n",
    "            \"/home/fabric/work/fabric_config/slice_key\", \"~/.ssh/slice_key\"\n",
    "        ).replace(\n",
    "            \"/home/fabric/work/fabric_config/ssh_config\", \"ssh_config\"\n",
    "        )\n",
    "        # Print the updated SSH command\n",
    "        print(f\"  SSH Command locally (ensuring it is saved according to below steps): {updated_ssh_command}\")\n",
    "    \n",
    "except Exception as e:\n",
    "    print(f\"Fail: {e}\")\n",
    "    traceback.print_exc()"
   ]
  },
  {
   "cell_type": "markdown",
   "metadata": {},
   "source": [
    "#### Run the SSH Commands\n",
    "To run the SSH Commands follow these steps (needs to be done once only, the slice_key and fabric_bastion_key can be reused among slices):\n",
    "1. From the Jupyter Notebook Hub from FABRIC, download the /fabric_config/fabric_bastion_key, /fabric_config/slice_key and /fabric_config/ssh_config files\n",
    "2. Add the ssh_config file to this project under /fabric/fabric_config, and change the /fabric_config/ssh_config \"IdentityFile\" entry to \"~/.ssh/fabric_bastion_key\", this is the new path to the bastion key of FABRIC from where you will be running the file.\n",
    "\n",
    "3. Execute these steps to save the SSH files savely on your local machine and avoid problems\n",
    "```sh\n",
    "# Open a Linux terminal, such as WSL after opening a CMD in Windows:\n",
    "wsl\n",
    "# Navigate to the Downloads directory\n",
    "cd Downloads\n",
    "# Create a directory called ssh to store the files\n",
    "mkdir -p ~/.ssh\n",
    "\n",
    "# Copy the key files to the SSH directory\n",
    "cp slice_key ~/.ssh/slice_key\n",
    "cp fabric_bastion_key ~/.ssh/fabric_bastion_key\n",
    "# Update permissions\n",
    "chmod 600 ~/.ssh/slice_key\n",
    "chmod 600 ~/.ssh/fabric_bastion_key\n",
    "# Navigate to the SSH directory to verify the files\n",
    "cd ~/.ssh\n",
    "# List files including permissions (-l)\n",
    "ls -l\n",
    "\n",
    "# Navigate to the fabric_config folder of this project, such as:\n",
    "cd /mnt/c/Users/cpoet/VSC_Projs/EnergyEfficiency_DYNAMOS/fabric/fabric_config\n",
    "# Then run the command from the previous step, such as:\n",
    "ssh -i ~/.ssh/slice_key -F ssh_config ubuntu@2001:610:2d0:fabc:f816:3eff:fe65:a464\n",
    "# To exit SSH access, type \"exit\" and press Enter\n",
    "```\n",
    "4. Now you can SSH into the nodes using the printed commands."
   ]
  },
  {
   "cell_type": "markdown",
   "metadata": {
    "tags": []
   },
   "source": [
    "## Step 4: Configure Kubernetes Cluster with Kubeadm\n",
    "\n",
    "This step configures the Kubernetes cluster.\n",
    "\n",
    "### Step 4.1: Configure Cluster with Kubeadm\n",
    "This step configures the kubernetes cluster with Kubeadm.\n",
    "\n",
    "Note: it may take some time for every node to be ready in the cluster, so keep running \"kubectl get nodes -o wide\" until all nodes are ready. But make sure to have all the nodes ready and see the describe commands, such as \"kubectl describe node dynamos-core\" (or use k9s by pressing d on the pod) and look at the events to avoid a problem later, such as the infinite schedule and complete for pod deployments that should not do that (see fabric/dynamos/Troubleshooting.md for that problem that occurred)."
   ]
  },
  {
   "cell_type": "code",
   "execution_count": null,
   "metadata": {},
   "outputs": [],
   "source": [
    "try:\n",
    "    # ========== Step 1: Configure Nodes with Kubeadm ==========\n",
    "    print(f\"========== Step 1: Configure Nodes with Kubeadm ==========\")\n",
    "    for node in slice.get_nodes():\n",
    "        print(f\"Configuring {node.get_name()}...\")\n",
    "        # Upload script file to the node\n",
    "        file_attributes = node.upload_file(local_file_path=\"config_k8s_node.sh\", remote_file_path=\"config_k8s_node.sh\")\n",
    "        # Add necessary permissions and execute the script\n",
    "        stdout, stderr = node.execute(f\"chmod +x config_k8s_node.sh && ./config_k8s_node.sh\")\n",
    "    \n",
    "    # ========== Step 2: Start nodes with Kubeadm ==========\n",
    "    print(f\"========== Step 2: Start nodes with Kubeadm ==========\")\n",
    "    for node in slice.get_nodes():\n",
    "        temp_node_name = node.get_name()\n",
    "        print(f\"Starting Kubernetes node {temp_node_name}...\")\n",
    "\n",
    "        # Check if the node is the control plane (node1)\n",
    "        if temp_node_name == node1_name:\n",
    "            # Upload the Flannel network addon file\n",
    "            print(f\"Uploading kube-flannel.yml on {temp_node_name}...\")\n",
    "            file_attributes = node.upload_file(local_file_path=\"kube-flannel.yml\", remote_file_path=\"kube-flannel.yml\")\n",
    "            # Upload and execute the control plane script\n",
    "            print(f\"Uploading and running start_control_plane.sh on {temp_node_name}...\")\n",
    "            file_attributes = node.upload_file(local_file_path=\"start_control_plane.sh\", remote_file_path=\"start_control_plane.sh\")\n",
    "            # Execute start control plane\n",
    "            stdout, stderr = node.execute(\n",
    "                f\"chmod +x start_control_plane.sh && ./start_control_plane.sh {node_ips.get(temp_node_name)} {node_interfaces.get(temp_node_name)} {temp_node_name}\"\n",
    "            )\n",
    "\n",
    "            # Extract join command from marked block\n",
    "            print(\"Extracting join command and credentials...\")\n",
    "            try:\n",
    "                join_cmd_block = stdout.split(\"=====BEGIN_JOIN_COMMAND=====\")[1].split(\"=====END_JOIN_COMMAND=====\")[0].strip()\n",
    "            except IndexError:\n",
    "                raise Exception(\"Join command block not found in control plane output.\")\n",
    "\n",
    "            # Parse token and CA cert hash\n",
    "            match = re.search(\n",
    "                r'--token\\s+(\\S+).*?--discovery-token-ca-cert-hash\\s+(\\S+)', join_cmd_block, re.DOTALL\n",
    "            )\n",
    "            if not match:\n",
    "                raise Exception(\"Failed to extract token and CA cert hash from join command.\")\n",
    "\n",
    "            token, ca_cert_hash = match.groups()\n",
    "            print(f\"Token: {token}\")\n",
    "            print(f\"CA Cert Hash: {ca_cert_hash}\")\n",
    "        # Otherwise, use the worker node script\n",
    "        else:\n",
    "            # Upload and execute the worker script\n",
    "            print(f\"Uploading and running start_worker.sh on {temp_node_name}...\")\n",
    "            file_attributes = node.upload_file(local_file_path=\"start_worker.sh\", remote_file_path=\"start_worker.sh\")\n",
    "            stdout, stderr = node.execute(\n",
    "                f\"chmod +x start_worker.sh && ./start_worker.sh {node_ips.get(temp_node_name)} {node_interfaces.get(temp_node_name)} {node_ips.get(node1_name)} {token} {ca_cert_hash} {temp_node_name}\"\n",
    "            )\n",
    "\n",
    "    # ========== Step 3: Post install for control plane node ==========\n",
    "    print(f\"========== Step 3: Post install for control plane node ==========\")\n",
    "    # Get the control plane node (node1)\n",
    "    node1 = slice.get_node(name=node1_name)\n",
    "    # Upload script file to the node\n",
    "    file_attributes = node1.upload_file(local_file_path=\"post_install_control_plane.sh\", remote_file_path=\"post_install_control_plane.sh\")\n",
    "    # Add necessary permissions and execute the script\n",
    "    stdout, stderr = node1.execute(f\"chmod +x post_install_control_plane.sh && ./post_install_control_plane.sh\")\n",
    "\n",
    "    # # ========== Debug: execute something only for one node for example ==========\n",
    "    # # print(f\"========== Step Debug: Debugging and testing specific things ==========\")\n",
    "    # # Get the node\n",
    "    # node_test = slice.get_node(name=node1_name)\n",
    "    # node_name_test = node_test.get_name()\n",
    "    # # Config node\n",
    "    # file_attributes = node_test.upload_file(local_file_path=\"config_k8s_node.sh\", remote_file_path=\"config_k8s_node.sh\")\n",
    "    # stdout, stderr = node_test.execute(f\"chmod +x config_k8s_node.sh && ./config_k8s_node.sh\")\n",
    "    # # Start control plane node\n",
    "    # file_attributes = node_test.upload_file(local_file_path=\"kube-flannel.yml\", remote_file_path=\"kube-flannel.yml\")\n",
    "    # file_attributes = node_test.upload_file(local_file_path=\"start_control_plane.sh\", remote_file_path=\"start_control_plane.sh\")\n",
    "    # stdout, stderr = node_test.execute(f\"chmod +x start_control_plane.sh && ./start_control_plane.sh {network.get_subnet()} {node_ips.get(node1_name)} {node_interfaces.get(node1_name)} {temp_node_name}\")\n",
    "    # # Post install for dependencies\n",
    "    # file_attributes = node_test.upload_file(local_file_path=\"post_install_control_plane.sh\", remote_file_path=\"post_install_control_plane.sh\")\n",
    "    # stdout, stderr = node_test.execute(f\"chmod +x post_install_control_plane.sh && ./post_install_control_plane.sh\")\n",
    "\n",
    "except Exception as e:\n",
    "    print(f\"Exception: {e}\")\n",
    "    traceback.print_exc()"
   ]
  },
  {
   "cell_type": "markdown",
   "metadata": {},
   "source": [
    "### Step 4.2: Post-install checks and configurations\n",
    "After doing the above step, you can check the configuration by executing these steps. After the script execution: make sure to run \"source ~/.bashrc\" in any SSH session you have open to reload the PATH variables to be able to use the installations.\n",
    "\n",
    "Now you can move on to the next step to work with DYNAMOS in Kubernetes. Also, you can use the different Kubernetes tools similar to how you used to do locally now, such as k9s and etcd, etc., but now from the control plane node (in this case node1) by using SSH to log into the VM.\n",
    "\n",
    "For example, test k9s by running \"k9s\" in the SSH connection to node1 and press \"0\" to see all namespaces to open k9s and see the different pods in all namespaces.\n",
    "\n",
    "If problems occur, you can uninstall brew with this command in an SSH into the node and try again for example:\n",
    "```sh\n",
    "/bin/bash -c \"$(curl -fsSL https://raw.githubusercontent.com/Homebrew/install/master/uninstall.sh)\"\n",
    "```\n",
    "For example, I got this error once:\n",
    "```sh\n",
    "ubuntu@Node1:~/kubespray$ brew install derailed/k9s/k9s\n",
    "==> Fetching derailed/k9s/k9s\n",
    "==> Downloading https://github.com/derailed/k9s/releases/download/v0.40.10/k9s_Linux_amd64.tar.gz\n",
    "Already downloaded: /home/ubuntu/.cache/Homebrew/downloads/79755f2b953f2b69637da790d4716219532b891325b5195297379a592b50e86d--k9s_Linux_amd64.tar.gz\n",
    "==> Installing k9s from derailed/k9s\n",
    "Error: The following formula cannot be installed from bottle and must be\n",
    "built from source.\n",
    "  k9s\n",
    "Install Clang or run `brew install gcc`.\n",
    "\n",
    "# This was fixed by ensuring this was done:\n",
    "sudo apt-get install build-essential\n",
    "brew install gcc\n",
    "# Then afterwards it worked, specifically the build-essential was not installed at the time.\n",
    "# It was due to the missing -y to prompt yes, causing it to Abort in the script.\n",
    "``` "
   ]
  }
 ],
 "metadata": {
  "kernelspec": {
   "display_name": "3.11.10",
   "language": "python",
   "name": "python3"
  },
  "language_info": {
   "codemirror_mode": {
    "name": "ipython",
    "version": 3
   },
   "file_extension": ".py",
   "mimetype": "text/x-python",
   "name": "python",
   "nbconvert_exporter": "python",
   "pygments_lexer": "ipython3",
   "version": "3.11.10"
  }
 },
 "nbformat": 4,
 "nbformat_minor": 4
}
