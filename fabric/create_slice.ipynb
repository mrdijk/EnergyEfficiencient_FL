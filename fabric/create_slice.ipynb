{
 "cells": [
  {
   "cell_type": "markdown",
   "metadata": {
    "tags": []
   },
   "source": [
    "# Create Slice for DYNAMOS in FABRIC \n",
    "\n",
    "This Jupyter notebook will create a FABRIC slice with resources that can be used for DYNAMOS in FABRIC.\n",
    "\n",
    "### FABlib API References Examples\n",
    "\n",
    "FABRIC API docs: https://fabric-fablib.readthedocs.io/en/latest/index.html\n",
    "\n",
    "Example list of useful functions:\n",
    "- [fablib.show_config](https://fabric-fablib.readthedocs.io/en/latest/fablib.html#fabrictestbed_extensions.fablib.fablib.FablibManager.show_config)\n",
    "- [fablib.list_sites](https://fabric-fablib.readthedocs.io/en/latest/fablib.html#fabrictestbed_extensions.fablib.fablib.FablibManager.list_sites)\n",
    "- [fablib.list_hosts](https://fabric-fablib.readthedocs.io/en/latest/fablib.html#fabrictestbed_extensions.fablib.fablib.FablibManager.list_hosts)\n",
    "- [fablib.new_slice](https://fabric-fablib.readthedocs.io/en/latest/fablib.html#fabrictestbed_extensions.fablib.fablib.FablibManager.new_slice)\n",
    "- [slice.add_node](https://fabric-fablib.readthedocs.io/en/latest/slice.html#fabrictestbed_extensions.fablib.slice.Slice.add_node)\n",
    "- [slice.submit](https://fabric-fablib.readthedocs.io/en/latest/slice.html#fabrictestbed_extensions.fablib.slice.Slice.submit)\n",
    "- [slice.get_nodes](https://fabric-fablib.readthedocs.io/en/latest/slice.html#fabrictestbed_extensions.fablib.slice.Slice.get_nodes)\n",
    "- [slice.list_nodes](https://fabric-fablib.readthedocs.io/en/latest/slice.html#fabrictestbed_extensions.fablib.slice.Slice.list_nodesß)\n",
    "- [slice.show](https://fabric-fablib.readthedocs.io/en/latest/slice.html#fabrictestbed_extensions.fablib.slice.Slice.show)\n",
    "- [node.execute](https://fabric-fablib.readthedocs.io/en/latest/node.html#fabrictestbed_extensions.fablib.node.Node.execute)\n",
    "- [slice.delete](https://fabric-fablib.readthedocs.io/en/latest/slice.html#fabrictestbed_extensions.fablib.slice.Slice.delete)\n",
    "\n",
    "\n",
    "## Step 1: Configure the Environment (has to be done once in the Jupyter Hub environment)\n",
    "\n",
    "Before running this notebook, you will need to configure your environment using the [Configure Environment](./configure_and_validate.ipynb) notebook. Please stop here, open and run that notebook, then return to this notebook. Note: this has to be done only once in the Jupyter Hub environment (unless configuration is removed/deleted of course).\n",
    "\n",
    "If you are using the FABRIC JupyterHub many of the environment variables will be automatically configured for you.  You will still need to set your bastion username, upload your bastion private key, and set the path to where you put your bastion private key. Your bastion username and private key should already be in your possession.  \n",
    "\n",
    "After following all steps of the Configuring Environment notebook, you should be able to run this notebook without additional steps.\n",
    "\n",
    "More information about accessing your experiments through the FABRIC bastion hosts can be found [here](https://learn.fabric-testbed.net/knowledge-base/logging-into-fabric-vms/).\n",
    " "
   ]
  },
  {
   "cell_type": "markdown",
   "metadata": {
    "tags": []
   },
   "source": [
    "## Step 2: Setup the Environment for this Notebook\n",
    "\n",
    "### Step 2.1: Import FABRIC API and other libraries"
   ]
  },
  {
   "cell_type": "code",
   "execution_count": null,
   "metadata": {
    "tags": []
   },
   "outputs": [],
   "source": [
    "import datetime\n",
    "import traceback\n",
    "from ipaddress import ip_address, IPv6Address\n",
    "\n",
    "from fabrictestbed_extensions.fablib.fablib import FablibManager as fablib_manager\n",
    "\n",
    "fablib = fablib_manager()\n",
    "\n",
    "fablib.show_config();\n"
   ]
  },
  {
   "cell_type": "markdown",
   "metadata": {},
   "source": [
    "### (Optional): Query for Available Testbed Resources and Settings\n",
    "\n",
    "This optional command queries the FABRIC services to find the available resources. It may be useful for finding a site with available capacity and other settings or available resources."
   ]
  },
  {
   "cell_type": "code",
   "execution_count": null,
   "metadata": {},
   "outputs": [],
   "source": [
    "# Comment out lists you do not want to view\n",
    "\n",
    "# List available sites\n",
    "# fablib.list_sites()\n",
    "# List available hosts\n",
    "# fablib.list_hosts(includes=[\"CERN\", \"AMST\"])\n",
    "# List available images that can be used for the nodes\n",
    "fablib.get_image_names()"
   ]
  },
  {
   "cell_type": "code",
   "execution_count": null,
   "metadata": {},
   "outputs": [],
   "source": [
    "# Comment out lists you do not want to view\n",
    "\n",
    "# List available sites\n",
    "# fablib.list_sites()\n",
    "# List available hosts\n",
    "# fablib.list_hosts(includes=[\"CERN\", \"AMST\"])\n",
    "# List available images that can be used for the nodes\n",
    "fablib.get_image_names()"
   ]
  },
  {
   "cell_type": "markdown",
   "metadata": {},
   "source": [
    "### Step 2.2: Configure the parameters and variables\n",
    "Can be used to set the corresponding slice and other variables used for subsequent cells."
   ]
  },
  {
   "cell_type": "code",
   "execution_count": null,
   "metadata": {},
   "outputs": [],
   "source": [
    "# Name of the slice\n",
    "slice_name = 'DYNAMOS_EnergyEfficiency'\n",
    "# Set image to ubuntu specific (used in FABRIC Kubernetes cluster example)\n",
    "image = \"default_ubuntu_24\"\n",
    "# Site used for the nodes (Use the UvA site: AMST)\n",
    "site = \"AMST\"\n",
    "# Host of the site used for the nodes (Use specific host to avoid error occurred without it: \"Timeout waiting for the server to come up\")\n",
    "site_host = \"amst-w1.fabric-testbed.net\"\n",
    "# Nodes:\n",
    "node1_name = 'k8s-control-plane'\n",
    "node2_name = 'dynamos-core'\n",
    "node3_name = 'vu'\n",
    "node4_name = 'uva'\n",
    "node5_name = 'surf'\n",
    "# Node specifications (make it not too low for all nodes, otherwise it will be very slow)\n",
    "node_disk = 100\n",
    "control_plane_ram = 16\n",
    "control_plane_cores = 4\n",
    "# Worker should have more than control plane node\n",
    "worker_ram = 16\n",
    "worker_cores = 8\n",
    "# Network:\n",
    "node1_nic_name = 'NIC1'\n",
    "node2_nic_name = 'NIC2'\n",
    "node3_nic_name = 'NIC3'\n",
    "node4_nic_name = 'NIC4'\n",
    "node5_nic_name = 'NIC5'\n",
    "network_name = 'NET1'"
   ]
  },
  {
   "cell_type": "markdown",
   "metadata": {
    "tags": []
   },
   "source": [
    "## Step 3: Create the Slice and Nodes\n",
    "\n",
    "The following creates a slice with the required nodes. You build a slice by creating a new slice and adding resources to the slice. After you build the slice, you must submit a request for the slice to be instantiated. \n",
    "\n",
    "By default, the submit function will block until the node is ready and will display the progress of your slice being built (it will automatically retry until the slice is submitted (i.e. the state of the slice is not configuring anymore)).\n",
    "\n",
    "Note: the slice must incorporate resources to be created, it cannot be created with no resources here, giving the error: \"Exception: Submit request error: return_status Status.INVALID_ARGUMENTS, slice_reservations: Either topology None or slice graph None must be specified\".\n",
    "\n",
    "### This includes: Setup Access to IPv4 from IPv6 only FABRIC VMs\n",
    "See fabric/dynamos/Troubleshooting.md for more explanation about this related issue. In short, the FABRIC VMs have IPv6 access only as their management IP (i.e. main IP). However, not all platforms support IPv6. This is most important for some custom registries outside the big ones like Github, such as \"cr.l5d.io\", which caused some problems before. Also, this might fix some other connectivity issues that occured.\n",
    "\n"
   ]
  },
  {
   "cell_type": "code",
   "execution_count": null,
   "metadata": {
    "tags": []
   },
   "outputs": [],
   "source": [
    "try:\n",
    "    # =================================================== Step 1: Create the Slice (including configuring network) ===================================================\n",
    "    print(\"=================================================== Creating slice... =================================================== \")\n",
    "    # Create a slice\n",
    "    slice = fablib.new_slice(name=slice_name)\n",
    "\n",
    "    # Add Nodes with the specific variables\n",
    "    # Also validate the node can be created and raise an exception in case of failure\n",
    "    # Control plane node:\n",
    "    node1 = slice.add_node(name=node1_name, site=site, validate=True, raise_exception=True, host=site_host, image=image, cores=control_plane_cores, ram=control_plane_ram, disk=node_disk)\n",
    "    # Worker nodes:\n",
    "    node2 = slice.add_node(name=node2_name, site=site, validate=True, raise_exception=True, host=site_host, image=image, cores=worker_cores, ram=worker_ram, disk=node_disk)\n",
    "    node3 = slice.add_node(name=node3_name, site=site, validate=True, raise_exception=True, host=site_host, image=image, cores=worker_cores, ram=worker_ram, disk=node_disk)\n",
    "    node4 = slice.add_node(name=node4_name, site=site, validate=True, raise_exception=True, host=site_host, image=image, cores=worker_cores, ram=worker_ram, disk=node_disk)\n",
    "    node5 = slice.add_node(name=node5_name, site=site, validate=True, raise_exception=True, host=site_host, image=image, cores=worker_cores, ram=worker_ram, disk=node_disk)\n",
    "\n",
    "    # Add network interface components: https://learn.fabric-testbed.net/knowledge-base/glossary/#component\n",
    "    # https://learn.fabric-testbed.net/knowledge-base/network-interfaces-in-fabric-vms/\n",
    "    # https://fabric-fablib.readthedocs.io/en/latest/node.html#fabrictestbed_extensions.fablib.node.Node.add_component\n",
    "    iface1 = node1.add_component(model='NIC_Basic', name=node1_nic_name).get_interfaces()[0]\n",
    "    iface2 = node2.add_component(model='NIC_Basic', name=node2_nic_name).get_interfaces()[0]\n",
    "    iface3 = node3.add_component(model='NIC_Basic', name=node3_nic_name).get_interfaces()[0]\n",
    "    iface4 = node4.add_component(model='NIC_Basic', name=node4_nic_name).get_interfaces()[0]\n",
    "    iface5 = node5.add_component(model='NIC_Basic', name=node5_nic_name).get_interfaces()[0]\n",
    "    # Set to auto mode to let FABlib allocate an IP (=ip_addr_add) from the network's subnet and configure the device during the post boot configuration stage\n",
    "    # See https://github.com/fabric-testbed/jupyter-examples/blob/main/fabric_examples/fablib_api/create_l3network_fabnet_ipv4/create_l3network_fabnet_ipv4_auto.ipynb\n",
    "    iface1.set_mode('auto')\n",
    "    iface2.set_mode('auto')\n",
    "    iface3.set_mode('auto')\n",
    "    iface4.set_mode('auto')\n",
    "    iface5.set_mode('auto')\n",
    "    # Add network with IPv4 (better for K8s than IPv6 currently): https://learn.fabric-testbed.net/knowledge-base/network-services-in-fabric/\n",
    "    # One network is enough, since all nodes are on the same site\n",
    "    net1 = slice.add_l3network(name=network_name, interfaces=[iface1, iface2, iface3, iface4, iface5], type='IPv4')\n",
    "    # Add routes for the interfaces to the nodes\n",
    "    node1.add_route(subnet=fablib.FABNETV4_SUBNET, next_hop=net1.get_gateway())\n",
    "    node2.add_route(subnet=fablib.FABNETV4_SUBNET, next_hop=net1.get_gateway())\n",
    "    node3.add_route(subnet=fablib.FABNETV4_SUBNET, next_hop=net1.get_gateway())\n",
    "    node4.add_route(subnet=fablib.FABNETV4_SUBNET, next_hop=net1.get_gateway())\n",
    "    node5.add_route(subnet=fablib.FABNETV4_SUBNET, next_hop=net1.get_gateway())\n",
    "\n",
    "    # Calculate the lease end time for 2 weeks from now with timezone information\n",
    "    lease_end_time = datetime.datetime.now(datetime.timezone.utc) + datetime.timedelta(weeks=2)\n",
    "\n",
    "    # Submit the slice request, using an end date 2 weeks from now (the current maximum lease time) \n",
    "    # to make sure that the slice can be used for a longer period of time. Progress shows an indicator of the current progression.\n",
    "    # Wait until the state is finished and use an interval (it may take some time before the slice and nodes are created)\n",
    "    slice.submit(wait=True, wait_timeout=3600, wait_interval=20, progress=True, wait_jupyter='text', lease_end_time=lease_end_time)\n",
    "\n",
    "    # =================================================== Step 2: Configure Nodes (e.g. setup IPv4 access) ===================================================\n",
    "    print(\"=================================================== Setting IPv4-only resources access... =================================================== \")\n",
    "    # enable nodes to access IPv4-only resources, such as Github, even if the control interface is IPv6-only\n",
    "    # This is an addition on what is already there, as Nat64 is already configured by default now, see: https://learn.fabric-testbed.net/knowledge-base/using-ipv4-only-resources-like-github-or-docker-hub-from-ipv6-fabric-sites/#reaching-ipv4-resources-via-nat64\n",
    "    # See for this guide that is an addition: https://github.com/teaching-on-testbeds/fabric-snippets/blob/main/ipv4-access-from-ipv6.md\n",
    "    for node in slice.get_nodes():\n",
    "        # Print before editing the files:\n",
    "        print(f\"==================== Files before configuring for node: {node.get_name()} ====================\")\n",
    "        node.execute('cat /etc/resolv.conf')\n",
    "        node.execute('cat /etc/hosts')\n",
    "        # Check if the node has IPv6 management IP\n",
    "        if type(ip_address(node.get_management_ip())) is IPv6Address:\n",
    "            # Adds a working public IPv6 DNS server (from SURFnet/AMS-IX) to the systemd-resolved config file:\n",
    "            # 2a00:1098:2c::1 is a known reliable IPv6 DNS resolver.\n",
    "            node.execute('echo \"DNS=2a00:1098:2c::1\" | sudo tee -a /etc/systemd/resolved.conf')\n",
    "            # Restarts the DNS resolver service to apply the new config\n",
    "            node.execute('sudo service systemd-resolved restart')\n",
    "            # Adds a loopback entry for the hostname to /etc/hosts\n",
    "            # Fixes issues where hostname -s cannot resolve to localhost\n",
    "            # Common workaround for tools like sudo, ssh, or certain init systems that rely on hostname resolution\n",
    "            node.execute('echo \"127.0.0.1 $(hostname -s)\" | sudo tee -a /etc/hosts')\n",
    "            # Replaces /etc/resolv.conf with the systemd-managed symlink\n",
    "            # On many systems, /etc/resolv.conf is incorrectly set (or overwritten by cloud-init). This command:\n",
    "            # Deletes any existing file, and recreates it as a symlink to the correct DNS config managed by systemd-resolved\n",
    "            node.execute('sudo rm -f /etc/resolv.conf; sudo ln -sv /run/systemd/resolve/resolv.conf /etc/resolv.conf')\n",
    "\n",
    "        # Print after editing the files:\n",
    "        print(f\"==================== Files after configuring for node: {node.get_name()} ====================\")\n",
    "        node.execute('cat /etc/resolv.conf')\n",
    "        node.execute('cat /etc/hosts')\n",
    "\n",
    "except Exception as e:\n",
    "    print(f\"Exception: {e}\")\n",
    "    traceback.print_exc()"
   ]
  },
  {
   "cell_type": "code",
   "execution_count": null,
   "metadata": {},
   "outputs": [],
   "source": [
    "# This is a separate cell since this can take some time and this is optional and not required for the setup. \n",
    "# So, after the previous cell finishes successfully, you can move on and optionally execute this one.\n",
    "try:\n",
    "    # =================================================== Step 3 (optional): Verify Network ===================================================\n",
    "    print(\"=================================================== Verifying network setup... =================================================== \")\n",
    "    # ========== Step 3.1: Get Slice and Network ==========\n",
    "    # Get the network\n",
    "    network = slice.get_network(name=network_name)\n",
    "    # Print network\n",
    "    print(f\"{network}\")\n",
    "\n",
    "    # ========== Step 3.2: Check connectivity for each node ==========\n",
    "    for node in slice.get_nodes():\n",
    "        print(f\"==================== Verifying for node: {node.get_name()} ====================\")\n",
    "        # Get interface\n",
    "        node_iface = node.get_interface(network_name=network_name)\n",
    "        # Get ip address of the node\n",
    "        node_addr = node_iface.get_ip_addr()\n",
    "        \n",
    "        # Print the IP to be used with kubernetes\n",
    "        print(f\"IPv4 from interface {node_iface} for {node.get_name()}: {node_addr}\")\n",
    "\n",
    "        # Connectivity tests\n",
    "        print(f\"Testing connectivity to outside world... \")\n",
    "        stdout, stderr = node.execute(f'ping -c 5 google.com')\n",
    "        print(\"Testing connectivity to all nodes... \")\n",
    "        # Test connectivity for each node (including itself)\n",
    "        for temp_node in slice.get_nodes():\n",
    "            print(f\"Testing connectivity to node {temp_node.get_name()}... \")\n",
    "            # Get IP of this node and check with ping if it can reach it\n",
    "            temp_node_addr = temp_node.get_interface(network_name=network_name).get_ip_addr()\n",
    "            stdout, stderr = node.execute(f'ping -c 5 {temp_node_addr}')\n",
    "\n",
    "        # Interface IP info and routing table information\n",
    "        print(\"Listing IP routes and addresses... \")\n",
    "        stdout, stderr = node.execute(f'ip route list')\n",
    "        stdout, stderr = node.execute(f'ip addr show {node_iface.get_os_interface()}')\n",
    "\n",
    "except Exception as e:\n",
    "    print(f\"Exception: {e}\")\n",
    "    traceback.print_exc()"
   ]
  },
  {
   "cell_type": "markdown",
   "metadata": {},
   "source": [
    "## Step 4: Observe the Slice's Attributes\n",
    "This step just observes the slice's attributes. \n",
    "\n",
    "### Show the slice attributes "
   ]
  },
  {
   "cell_type": "code",
   "execution_count": null,
   "metadata": {
    "tags": []
   },
   "outputs": [],
   "source": [
    "slice.show();"
   ]
  },
  {
   "cell_type": "markdown",
   "metadata": {},
   "source": [
    "#### List the nodes"
   ]
  },
  {
   "cell_type": "code",
   "execution_count": null,
   "metadata": {},
   "outputs": [],
   "source": [
    "slice.list_nodes();"
   ]
  },
  {
   "cell_type": "markdown",
   "metadata": {},
   "source": [
    "### Run a test Experiment to Validate the nodes\n",
    "\n",
    "Most experiments will require automated configuration and execution. You can use the fablib library to execute arbitrary commands on your node. \n",
    "\n",
    "The following code demonstrates how to use fablib to execute a \"Hello, FABRIC\" bash script. The library uses the bastion and VM keys defined at the top of this notebook to jump through the bastion host and execute the script."
   ]
  },
  {
   "cell_type": "code",
   "execution_count": null,
   "metadata": {},
   "outputs": [],
   "source": [
    "#node = slice.get_node('Node1')\n",
    "\n",
    "for node in slice.get_nodes():\n",
    "    stdout, stderr = node.execute('echo Hello, FABRIC from node `hostname -s`')"
   ]
  }
 ],
 "metadata": {
  "kernelspec": {
   "display_name": "Python 3 (ipykernel)",
   "language": "python",
   "name": "python3"
  },
  "language_info": {
   "codemirror_mode": {
    "name": "ipython",
    "version": 3
   },
   "file_extension": ".py",
   "mimetype": "text/x-python",
   "name": "python",
   "nbconvert_exporter": "python",
   "pygments_lexer": "ipython3",
   "version": "3.11.9"
  }
 },
 "nbformat": 4,
 "nbformat_minor": 4
}
